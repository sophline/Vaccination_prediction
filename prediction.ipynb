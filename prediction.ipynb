{
 "cells": [
  {
   "cell_type": "markdown",
   "metadata": {},
   "source": []
  },
  {
   "cell_type": "markdown",
   "metadata": {},
   "source": [
    "### BUSINESS UNDERSTANDING \n",
    "## Overview\n",
    " The Lowest seasons of  human kind  are those of global health  pandemics with the  most recent being Covid _19.Preceeded by the other influenza viruses the H1 _N1 and the seasonal flu.According to the World Health Organization , There are around a billion cases of seasonal influenza annually, including 3–5 million cases of severe illness.\n",
    "It causes 290 000 to 650 000 respiratory deaths annually.\n",
    "Ninety-nine percent of deaths in children under 5 years of age with influenza-related lower respiratory tract infections are in developing countries https://www.who.int/news-room/fact-sheets/detail/influenza-(seasonal)?gad_source=1&gclid=EAIaIQobChMIm-y9mLnAhgMV5KmDBx1GgwYuEAA\n",
    "\n",
    "\n",
    "The flu and H1N1 vaccination rate in the United States is relatively low at 50.2%. This presents a public \n",
    "health concern, particularly given the high availability and proven effectiveness of flu vaccines.As the world struggles to vaccinate the global population against COVID-19, an understanding of how people’s backgrounds, opinions, and health behaviors are related to their personal vaccination patterns can provide guidance for future public health efforts.\n",
    "\n",
    "Understanding these factors and modelling them  as a data scientist will be pertinent in infroming  the the public health stakeholders in the  the World Health Organization (WHO).\n",
    "\n",
    "## Proposed Solution\n",
    "To develop a machine learning model that can predict the likelihood of an individual getting vaccinated by perfoming an analysis of the data provided by  drivendata.org.Performance will be evaluated according to the area under the receiver operating characteristic curve (ROC AUC) for each of the two target variables. The mean of these two scores will be the overall score. A higher value indicates stronger performance.\n",
    "\n",
    "## Challenges \n",
    " One of the setbacks of this project would be biasness ,because the data used was done through a survey of the USA.Therefore the model may not fit in the developing countries because the factors that are taken into account are different. \n",
    "\n",
    "\n",
    " ### Problem Statement\n",
    " The goal is to determine the most effective behaviors that lead people to get vaccinated against the H1N1 flu virus and seasonal flu viruses. This involves identifying key factors that influence behavior and motivations, such as education, age, employer influence, health insurance, physician recommendations, presence of chronic diseases, and employment in the healthcare sector. Additionally, vaccination status may be affected by behaviors like face-touching, attending large gatherings, wearing masks, and hand-washing habits.\n",
    "\n",
    "The primary objective of this algorithm is classification. It should analyze attributes from the National 2009 H1N1 Flu and Seasonal Flu Survey dataset to determine if a respondent received the seasonal flu vaccine or the H1N1 flu vaccine. The model's effectiveness will be measured by how accurately it predicts vaccination status based on the respondent's behaviors and motivational factors.\n",
    "\n",
    "\n",
    "## Objectives \n",
    ". To identify key factors that influence people to be vaccinated.\n",
    "\n",
    ". To develop a machine learning algorithim that predicts vaccination status based on respondent's behaviours.\n",
    ". \n",
    "\n"
   ]
  },
  {
   "cell_type": "markdown",
   "metadata": {},
   "source": [
    "## Data Understanding \n",
    "Data Sources\n",
    " \n",
    "DrivenData. (n.d.). Flu Shot Learning: Predict H1N1 and Seasonal Flu Vaccines. DrivenData. Retrieved January 17, 2021, from https://www.drivendata.org/competitions/66/flu-shot-learning/data/\n",
    "\n"
   ]
  }
 ],
 "metadata": {
  "language_info": {
   "name": "python"
  }
 },
 "nbformat": 4,
 "nbformat_minor": 2
}
